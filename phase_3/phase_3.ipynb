{
 "cells": [
  {
   "cell_type": "code",
   "execution_count": 1,
   "metadata": {},
   "outputs": [],
   "source": [
    "import pandas as pd\n",
    "import numpy as np\n",
    "import yfinance as yf\n",
    "import matplotlib.pyplot as plt\n",
    "import plotly.express as px\n",
    "import seaborn as sns\n",
    "import warnings\n",
    "import requests \n",
    "from bs4 import BeautifulSoup\n",
    "import time\n",
    "warnings.filterwarnings(\"ignore\", category=UserWarning, module='urllib3')"
   ]
  },
  {
   "cell_type": "code",
   "execution_count": 6,
   "metadata": {},
   "outputs": [
    {
     "name": "stdout",
     "output_type": "stream",
     "text": [
      "                        Date       Open       High        Low      Close  \\\n",
      "0  2020-03-02 00:00:00-05:00  68.503432  73.153162  67.396816  72.514915   \n",
      "1  2020-03-03 00:00:00-05:00  73.694344  73.774425  69.357664  70.211899   \n",
      "2  2020-03-04 00:00:00-05:00  71.939753  73.628797  71.136487  73.468628   \n",
      "3  2020-03-05 00:00:00-05:00  71.716493  72.694489  70.719085  71.085533   \n",
      "4  2020-03-06 00:00:00-05:00  68.435477  70.575907  68.248617  70.141510   \n",
      "\n",
      "        Volume  Dividends  Stock Splits Ticker      Sector  \\\n",
      "0  341397200.0        0.0           0.0   AAPL  Technology   \n",
      "1  319475600.0        0.0           0.0   AAPL  Technology   \n",
      "2  219178400.0        0.0           0.0   AAPL  Technology   \n",
      "3  187572800.0        0.0           0.0   AAPL  Technology   \n",
      "4  226176800.0        0.0           0.0   AAPL  Technology   \n",
      "\n",
      "               Industry  Adj Close  \n",
      "0  Consumer Electronics        NaN  \n",
      "1  Consumer Electronics        NaN  \n",
      "2  Consumer Electronics        NaN  \n",
      "3  Consumer Electronics        NaN  \n",
      "4  Consumer Electronics        NaN  \n"
     ]
    }
   ],
   "source": [
    "df = pd.read_csv('stock_data.csv')\n",
    "print(df.head())"
   ]
  }
 ],
 "metadata": {
  "kernelspec": {
   "display_name": "ds",
   "language": "python",
   "name": "python3"
  },
  "language_info": {
   "codemirror_mode": {
    "name": "ipython",
    "version": 3
   },
   "file_extension": ".py",
   "mimetype": "text/x-python",
   "name": "python",
   "nbconvert_exporter": "python",
   "pygments_lexer": "ipython3",
   "version": "3.12.4"
  }
 },
 "nbformat": 4,
 "nbformat_minor": 2
}
