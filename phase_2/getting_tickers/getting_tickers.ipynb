{
 "cells": [
  {
   "cell_type": "code",
   "execution_count": 6,
   "metadata": {},
   "outputs": [],
   "source": [
    "import requests\n",
    "from bs4 import BeautifulSoup\n",
    "import json \n",
    "import pandas as pd\n"
   ]
  },
  {
   "cell_type": "markdown",
   "metadata": {},
   "source": [
    "Webscrape/get a list of unique tickers from differnt stock indexes, (SMP 500 and Russell 2000)"
   ]
  },
  {
   "cell_type": "markdown",
   "metadata": {},
   "source": [
    "#### For SMP 500 tickers:"
   ]
  },
  {
   "cell_type": "code",
   "execution_count": 7,
   "metadata": {},
   "outputs": [],
   "source": [
    "smp_tickers = []\n",
    "response = requests.get('https://stockanalysis.com/list/sp-500-stocks/').text\n",
    "soup = BeautifulSoup(response)\n",
    "stocks = soup.findAll('td', class_ = 'sym svelte-utsffj')\n",
    "for stock in stocks:\n",
    "    smp_tickers.append(stock.find('a').text)"
   ]
  },
  {
   "cell_type": "markdown",
   "metadata": {},
   "source": [
    "#### Couldnt find a good place to webscrape the russell 2000 tickers, so just downloaded a xml with the info so I could get the tickers"
   ]
  },
  {
   "cell_type": "code",
   "execution_count": 8,
   "metadata": {},
   "outputs": [],
   "source": [
    "#simply opened up excel file, got the ticker column, and converted it to a list\n",
    "russell_info = pd.read_excel('russell_2000.xlsx')\n",
    "russell_tickers = russell_info.Ticker.tolist()"
   ]
  },
  {
   "cell_type": "markdown",
   "metadata": {},
   "source": [
    "#### Combined the two ticker lists into one big one and saved it so it can be used for getting the rest of the data"
   ]
  },
  {
   "cell_type": "code",
   "execution_count": 9,
   "metadata": {},
   "outputs": [],
   "source": [
    "combined_tickers = smp_tickers + russell_tickers\n",
    "#made sure there was no dupes\n",
    "combined_tickers = list(set(combined_tickers))\n",
    "with open('ticker_list', 'w') as file:\n",
    "    json.dump(combined_tickers, file)"
   ]
  }
 ],
 "metadata": {
  "kernelspec": {
   "display_name": "base",
   "language": "python",
   "name": "python3"
  },
  "language_info": {
   "codemirror_mode": {
    "name": "ipython",
    "version": 3
   },
   "file_extension": ".py",
   "mimetype": "text/x-python",
   "name": "python",
   "nbconvert_exporter": "python",
   "pygments_lexer": "ipython3",
   "version": "3.9.6"
  }
 },
 "nbformat": 4,
 "nbformat_minor": 2
}
